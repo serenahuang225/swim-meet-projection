{
 "cells": [
  {
   "cell_type": "code",
   "execution_count": 1,
   "metadata": {},
   "outputs": [],
   "source": [
    "import PyPDF2\n",
    "import re"
   ]
  },
  {
   "cell_type": "code",
   "execution_count": 2,
   "metadata": {},
   "outputs": [],
   "source": [
    "reader = PyPDF2.PdfReader('./c1 psych.pdf')"
   ]
  },
  {
   "cell_type": "code",
   "execution_count": 3,
   "metadata": {},
   "outputs": [
    {
     "data": {
      "text/plain": [
       "'Central Cape Gir 1:58.61  SO Kennedy Ringwald 7St. Francis Borg 1:59.16  SO Addison Pfeiffer 8'"
      ]
     },
     "execution_count": 3,
     "metadata": {},
     "output_type": "execute_result"
    }
   ],
   "source": [
    "# problem\n",
    "reader.pages[1].extract_text().split('\\n')[61]"
   ]
  },
  {
   "cell_type": "code",
   "execution_count": 4,
   "metadata": {},
   "outputs": [],
   "source": [
    "def split_merged_line(line):\n",
    "    \"\"\"Splits a merged line into separate records when two swimmers' entries are combined.\"\"\"\n",
    "    time_pattern = r'(\\d{1,2}:\\d{2}\\.\\d{2}|\\d{2}\\.\\d{2})'\n",
    "    \n",
    "    matches = list(re.finditer(time_pattern, line))\n",
    "\n",
    "    if len(matches) <= 1:\n",
    "        return [line] # ok\n",
    "\n",
    "    split_match = re.search(r'(\\d+)([A-Z])', line)\n",
    "\n",
    "    if split_match:\n",
    "        split_point = split_match.start(2)\n",
    "        return [line[:split_point].strip(), line[split_point:].strip()]\n",
    "\n",
    "    return [line]"
   ]
  },
  {
   "cell_type": "code",
   "execution_count": 5,
   "metadata": {},
   "outputs": [
    {
     "data": {
      "text/plain": [
       "['Central Cape Gir 1:58.61  SO Kennedy Ringwald 7',\n",
       " 'St. Francis Borg 1:59.16  SO Addison Pfeiffer 8']"
      ]
     },
     "execution_count": 5,
     "metadata": {},
     "output_type": "execute_result"
    }
   ],
   "source": [
    "split_merged_line('Central Cape Gir 1:58.61  SO Kennedy Ringwald 7St. Francis Borg 1:59.16  SO Addison Pfeiffer 8')"
   ]
  },
  {
   "cell_type": "code",
   "execution_count": 6,
   "metadata": {},
   "outputs": [
    {
     "name": "stdout",
     "output_type": "stream",
     "text": [
      "Extraction complete. Data saved to psych_res_individual.txt\n"
     ]
    }
   ],
   "source": [
    "output_file = 'psych_res_individual.txt'\n",
    "\n",
    "with open(output_file, 'w') as f:\n",
    "    event_name = \"\"\n",
    "\n",
    "    for page in reader.pages:\n",
    "        lines = page.extract_text().split('\\n')\n",
    "\n",
    "        for line in lines:\n",
    "            if \"Event\" in line and \"Girls\" in line and \"Yard\" in line and \"Relay\" not in line: # process relays later\n",
    "                new_name = re.sub(r'Event\\s+\\d+\\s+\\.+\\((.+?)\\)', r'\\1', line).strip()\n",
    "                new_name = \" \".join(new_name.split())\n",
    "                if new_name in event_name:\n",
    "                    continue # reading header of a new page\n",
    "                else:\n",
    "                    event_name = new_name\n",
    "                    f.write(f\"EVENT NAME: {event_name}\\n\")\n",
    "                continue\n",
    "\n",
    "            possible_records = split_merged_line(line)\n",
    "            for line in possible_records:\n",
    "                match = re.match(r'(.+?)\\s+(\\d{1,2}:\\d{2}\\.\\d{2}|\\d{2}\\.\\d{2})\\s+(\\w{2})\\s+([A-Za-z-]+(?:\\s+[A-Za-z-]+)*)\\s+(\\d+)', line)\n",
    "\n",
    "                if match:\n",
    "                    school, time, grade, name, place = match.groups()\n",
    "                    f.write(f\"{school}\\t{time}\\t{grade}\\t{name}\\t{place}\\n\")\n",
    "\n",
    "print(f\"Extraction complete. Data saved to {output_file}\")"
   ]
  },
  {
   "cell_type": "code",
   "execution_count": 7,
   "metadata": {},
   "outputs": [
    {
     "data": {
      "text/plain": [
       "'7) Claire Weber SO 8) India Browning SO1:59.35 Parkway Central 12'"
      ]
     },
     "execution_count": 7,
     "metadata": {},
     "output_type": "execute_result"
    }
   ],
   "source": [
    "# another problem\n",
    "reader.pages[0].extract_text().split('\\n')[60]"
   ]
  },
  {
   "cell_type": "code",
   "execution_count": 8,
   "metadata": {},
   "outputs": [],
   "source": [
    "def split_merged_relay_line(line):\n",
    "    \"\"\"Splits a merged relay team line where the next team's time and school name are attached.\"\"\"\n",
    "    split_match = re.search(r'([A-Za-z][A-Za-z])(\\d{1,2}:\\d{2}\\.\\d{2})', line)\n",
    "    # split_match = re.search(r'(\\d+)([A-Z])', line)\n",
    "\n",
    "    if split_match:\n",
    "        split_point = split_match.start(2)\n",
    "        return [line[:split_point].strip(), line[split_point:].strip()]\n",
    "\n",
    "    return [line] # ok"
   ]
  },
  {
   "cell_type": "code",
   "execution_count": 9,
   "metadata": {},
   "outputs": [
    {
     "data": {
      "text/plain": [
       "['7) Claire Weber SO 8) India Browning SO', '1:59.35 Parkway Central 12']"
      ]
     },
     "execution_count": 9,
     "metadata": {},
     "output_type": "execute_result"
    }
   ],
   "source": [
    "split_merged_relay_line('7) Claire Weber SO 8) India Browning SO1:59.35 Parkway Central 12')"
   ]
  },
  {
   "cell_type": "code",
   "execution_count": 10,
   "metadata": {},
   "outputs": [
    {
     "name": "stdout",
     "output_type": "stream",
     "text": [
      "Extraction complete. Data saved to psych_res_relays.txt\n"
     ]
    }
   ],
   "source": [
    "output_file = 'psych_res_relays.txt'\n",
    "\n",
    "with open(output_file, 'w') as f:\n",
    "    event_name = \"\"\n",
    "    relay_mode = False\n",
    "    current_relay = \"\"\n",
    "\n",
    "    for page in reader.pages:\n",
    "        lines = page.extract_text().split('\\n')\n",
    "\n",
    "        for i, line in enumerate(lines):\n",
    "            if \"Event\" in line and \"Girls\" in line and \"Yard\" in line:\n",
    "                new_name = re.sub(r'Event\\s+\\d+\\s+\\.+\\((.+?)\\)', r'\\1', line).strip()\n",
    "                new_name = \" \".join(new_name.split())\n",
    "                if new_name in event_name:\n",
    "                    continue # reading header of a new page\n",
    "                else:\n",
    "                    event_name = new_name\n",
    "                    f.write(f\"EVENT NAME: {event_name}\\n\")\n",
    "                    \n",
    "                relay_mode = \"Relay\" in event_name\n",
    "                continue\n",
    "            \n",
    "            if relay_mode:\n",
    "                possible_records = split_merged_relay_line(line)\n",
    "                for line in possible_records:\n",
    "                    relay_match = re.match(r'(\\d{1,2}:\\d{2}\\.\\d{2})\\s+(.+?)\\s+(\\d+)', line)\n",
    "                    \n",
    "                    if relay_match:\n",
    "                        if current_relay:\n",
    "                            f.write(\"\\n\".join(current_relay) + \"\\n\")\n",
    "\n",
    "                        seed_time, team, place = relay_match.groups()\n",
    "                        current_relay = [f\"{seed_time}\\t{team}\\t{place}\"]\n",
    "                        continue\n",
    "\n",
    "                    swimmer_match = re.findall(r'(\\d\\))\\s+([A-Za-z-]+(?:\\s+[A-Za-z-]+)*)\\s+([A-Z]{2})', line)\n",
    "                    if swimmer_match and current_relay is not None:\n",
    "                        for _, name, grade in swimmer_match:\n",
    "                            current_relay.append(f\"{name}\\t{grade}\")\n",
    "                        continue\n",
    "\n",
    "    if current_relay:\n",
    "        f.write(\"\\n\".join(current_relay) + \"\\n\")\n",
    "\n",
    "print(f\"Extraction complete. Data saved to {output_file}\")"
   ]
  },
  {
   "cell_type": "code",
   "execution_count": 11,
   "metadata": {},
   "outputs": [],
   "source": [
    "# read individual events\n",
    "i_events = {}\n",
    "with open(\"./psych_res_individual.txt\", \"r\") as times:\n",
    "    lines = times.readlines()\n",
    "    curr_evnt = \"\"\n",
    "    \n",
    "    for l in lines:\n",
    "        if \"EVENT NAME\" in l:\n",
    "            curr_evnt = l[12:len(l)-1]\n",
    "            i_events[curr_evnt] = []\n",
    "        else:\n",
    "            as_list = l.split('\\t')\n",
    "            if len(as_list)==0:\n",
    "                continue\n",
    "            else:\n",
    "                i_events[curr_evnt].append({\n",
    "                    \"team\": as_list[0], \"time\": as_list[1], \"grade\": as_list[2], \"name\": as_list[3], \n",
    "                    \"place\": int(as_list[4])})"
   ]
  },
  {
   "cell_type": "code",
   "execution_count": 32,
   "metadata": {},
   "outputs": [
    {
     "data": {
      "text/plain": [
       "[{'team': 'Visitation Acade',\n",
       "  'time': '1:05.35',\n",
       "  'grade': 'SR',\n",
       "  'name': 'Ashlyn Canale',\n",
       "  'place': 1},\n",
       " {'team': 'Villa Duchesne',\n",
       "  'time': '1:06.10',\n",
       "  'grade': 'JR',\n",
       "  'name': 'Charlotte Brown',\n",
       "  'place': 2},\n",
       " {'team': \"St. Joseph's Aca\",\n",
       "  'time': '1:06.52',\n",
       "  'grade': 'FR',\n",
       "  'name': 'Payton Robic',\n",
       "  'place': 3},\n",
       " {'team': \"St. Joseph's Aca\",\n",
       "  'time': '1:07.38',\n",
       "  'grade': 'JR',\n",
       "  'name': 'Vienna Schindler',\n",
       "  'place': 4},\n",
       " {'team': 'John Burroughs',\n",
       "  'time': '1:07.48',\n",
       "  'grade': 'SR',\n",
       "  'name': 'Jacqueline Hu',\n",
       "  'place': 5},\n",
       " {'team': 'Ursuline Academy',\n",
       "  'time': '1:07.48',\n",
       "  'grade': 'SO',\n",
       "  'name': 'Kennedy Chrun',\n",
       "  'place': 6},\n",
       " {'team': 'St. Charles West',\n",
       "  'time': '1:07.49',\n",
       "  'grade': 'SR',\n",
       "  'name': 'Stella Garrison',\n",
       "  'place': 7},\n",
       " {'team': 'Notre Dame de Si',\n",
       "  'time': '1:09.02',\n",
       "  'grade': 'SO',\n",
       "  'name': 'Finley Glennon',\n",
       "  'place': 8},\n",
       " {'team': 'Parkway Central',\n",
       "  'time': '1:09.57',\n",
       "  'grade': 'JR',\n",
       "  'name': 'Serena Huang',\n",
       "  'place': 9},\n",
       " {'team': 'St. Pius X (Kans',\n",
       "  'time': '1:09.77',\n",
       "  'grade': 'SR',\n",
       "  'name': 'Alynah Tran',\n",
       "  'place': 10}]"
      ]
     },
     "execution_count": 32,
     "metadata": {},
     "output_type": "execute_result"
    }
   ],
   "source": [
    "i_events['Event 11 Girls 100 Yard Breaststroke'][0:10]"
   ]
  },
  {
   "cell_type": "code",
   "execution_count": 13,
   "metadata": {},
   "outputs": [],
   "source": [
    "# read relay events\n",
    "r_events = {}\n",
    "with open(\"./psych_res_relays_test.txt\", \"r\") as times:\n",
    "    lines = times.readlines()\n",
    "    curr_evnt = \"\"\n",
    "    for l in lines:\n",
    "        if \"EVENT NAME\" in l:\n",
    "            curr_evnt = l[12:len(l)-1]\n",
    "            r_events[curr_evnt] = []\n",
    "        else:\n",
    "            as_list = l.split('\\t')\n",
    "            if as_list[0][0].isdigit():\n",
    "                r_events[curr_evnt].append({\n",
    "                    \"event\": \" \".join(curr_evnt.split()[3:]), \"time\": as_list[0], \"team\": as_list[1], \"place\": int(as_list[2])})"
   ]
  },
  {
   "cell_type": "code",
   "execution_count": 33,
   "metadata": {},
   "outputs": [
    {
     "data": {
      "text/plain": [
       "[{'event': '200 Yard Medley Relay',\n",
       "  'time': '1:46.01',\n",
       "  'team': \"St. Joseph's Aca\",\n",
       "  'place': 1},\n",
       " {'event': '200 Yard Medley Relay',\n",
       "  'time': '1:51.63',\n",
       "  'team': 'Pembroke Hill',\n",
       "  'place': 2},\n",
       " {'event': '200 Yard Medley Relay',\n",
       "  'time': '1:52.04',\n",
       "  'team': 'Visitation Acade',\n",
       "  'place': 3},\n",
       " {'event': '200 Yard Medley Relay',\n",
       "  'time': '1:53.36',\n",
       "  'team': 'Villa Duchesne',\n",
       "  'place': 4},\n",
       " {'event': '200 Yard Medley Relay',\n",
       "  'time': '1:53.81',\n",
       "  'team': 'Clayton',\n",
       "  'place': 5},\n",
       " {'event': '200 Yard Medley Relay',\n",
       "  'time': '1:54.14',\n",
       "  'team': 'John Burroughs',\n",
       "  'place': 6},\n",
       " {'event': '200 Yard Medley Relay',\n",
       "  'time': '1:55.81',\n",
       "  'team': 'Parkway West',\n",
       "  'place': 7},\n",
       " {'event': '200 Yard Medley Relay',\n",
       "  'time': '1:55.95',\n",
       "  'team': 'Parkway Central',\n",
       "  'place': 8},\n",
       " {'event': '200 Yard Medley Relay',\n",
       "  'time': '1:56.25',\n",
       "  'team': 'West Plains',\n",
       "  'place': 9},\n",
       " {'event': '200 Yard Medley Relay',\n",
       "  'time': '1:58.16',\n",
       "  'team': 'Monett',\n",
       "  'place': 10}]"
      ]
     },
     "execution_count": 33,
     "metadata": {},
     "output_type": "execute_result"
    }
   ],
   "source": [
    "r_events['Event 1 Girls 200 Yard Medley Relay'][0:10]"
   ]
  },
  {
   "cell_type": "code",
   "execution_count": 15,
   "metadata": {},
   "outputs": [],
   "source": [
    "# score\n",
    "school_scores = {}\n",
    "school_events = {}\n",
    "person_scores = {}\n",
    "person_events = {}\n",
    "\n",
    "scoring = [20,17,16,15,14,13,12,11,9,7,6,5,4,3,2,1]\n",
    "relay_scoring = [40,34,32,30,28,26,24,22,18,14,12,10,8,6,4,2]\n",
    "\n",
    "for event in i_events:\n",
    "    for i, info in enumerate(i_events[event]):\n",
    "        if i==len(scoring):\n",
    "            break\n",
    "        \n",
    "        if info[\"team\"] in school_scores:\n",
    "            school_scores[info[\"team\"]] += scoring[i]\n",
    "            school_events[info[\"team\"]].append(info)\n",
    "        else:\n",
    "            school_scores[info[\"team\"]] = scoring[i]\n",
    "            school_events[info[\"team\"]] = [info]\n",
    "\n",
    "        if info[\"name\"] in person_scores:\n",
    "            person_scores[info[\"name\"]] += scoring[i]\n",
    "            person_events[info[\"name\"]].append(info)\n",
    "        else:\n",
    "            person_scores[info[\"name\"]] = scoring[i]\n",
    "            person_events[info[\"name\"]] = [info]\n",
    "\n",
    "for event in r_events:\n",
    "    for i, info in enumerate(r_events[event]):\n",
    "        if i==len(relay_scoring):\n",
    "            break\n",
    "        if info[\"team\"] in school_scores:\n",
    "            school_scores[info[\"team\"]] += relay_scoring[i]\n",
    "            school_events[info[\"team\"]].append(info)\n",
    "        else:\n",
    "            school_scores[info[\"team\"]] = relay_scoring[i]\n",
    "            school_events[info[\"team\"]] = [info]"
   ]
  },
  {
   "cell_type": "code",
   "execution_count": 16,
   "metadata": {},
   "outputs": [
    {
     "name": "stdout",
     "output_type": "stream",
     "text": [
      "1: 301,\tSt. Joseph's Aca\n",
      "2: 171,\tCentral Cape Gir\n",
      "3: 163,\tParkway Central\n",
      "4: 160,\tPembroke Hill\n",
      "5: 144,\tClayton\n",
      "6: 126,\tVisitation Acade\n",
      "7: 117,\tVilla Duchesne\n",
      "8: 96,\tSt. Teresa's Aca\n",
      "9: 93,\tWest Plains\n",
      "10: 89,\tFather Tolton Re\n"
     ]
    }
   ],
   "source": [
    "top_10 = sorted(school_scores.items(), key=lambda x:x[1], reverse=True)[0:10]\n",
    "\n",
    "for i, item in enumerate(top_10):\n",
    "    print(i+1, \": \", item[1], \",\\t\", item[0], sep=\"\")"
   ]
  },
  {
   "cell_type": "code",
   "execution_count": 17,
   "metadata": {},
   "outputs": [
    {
     "data": {
      "text/plain": [
       "[('Anna-Grace Guenther', 40),\n",
       " ('Charlotte Brown', 37),\n",
       " ('Helena Tietjen', 37),\n",
       " ('Sydney Ringwald', 37),\n",
       " ('Ashlyn Canale', 37)]"
      ]
     },
     "execution_count": 17,
     "metadata": {},
     "output_type": "execute_result"
    }
   ],
   "source": [
    "sorted(person_scores.items(), key=lambda x:x[1], reverse=True)[0:5]"
   ]
  },
  {
   "cell_type": "code",
   "execution_count": 18,
   "metadata": {},
   "outputs": [
    {
     "name": "stdout",
     "output_type": "stream",
     "text": [
      "{'team': 'Parkway Central', 'time': '25.04', 'grade': 'JR', 'name': 'Cecilia Tremont', 'place': 8}\n",
      "{'team': 'Parkway Central', 'time': '25.43', 'grade': 'SO', 'name': 'Kenadie Johnson', 'place': 12}\n",
      "{'team': 'Parkway Central', 'time': '57.71', 'grade': 'JR', 'name': 'Reese Anderson', 'place': 3}\n",
      "{'team': 'Parkway Central', 'time': '59.02', 'grade': 'JR', 'name': 'Serena Huang', 'place': 5}\n",
      "{'team': 'Parkway Central', 'time': '54.71', 'grade': 'JR', 'name': 'Cecilia Tremont', 'place': 6}\n",
      "{'team': 'Parkway Central', 'time': '56.89', 'grade': 'SO', 'name': 'Gabrielle Salmans', 'place': 16}\n",
      "{'team': 'Parkway Central', 'time': '5:12.36', 'grade': 'JR', 'name': 'Reese Anderson', 'place': 3}\n",
      "{'team': 'Parkway Central', 'time': '1:09.57', 'grade': 'JR', 'name': 'Serena Huang', 'place': 9}\n",
      "{'event': '200 Yard Medley Relay', 'time': '1:55.95', 'team': 'Parkway Central', 'place': 8}\n",
      "{'event': '200 Yard Freestyle Relay', 'time': '1:41.69', 'team': 'Parkway Central', 'place': 5}\n",
      "{'event': '400 Yard Freestyle Relay', 'time': '3:41.55', 'team': 'Parkway Central', 'place': 3}\n"
     ]
    }
   ],
   "source": [
    "for e in school_events['Parkway Central']:\n",
    "    print(e)"
   ]
  },
  {
   "cell_type": "code",
   "execution_count": null,
   "metadata": {},
   "outputs": [],
   "source": []
  },
  {
   "cell_type": "code",
   "execution_count": 19,
   "metadata": {},
   "outputs": [],
   "source": [
    "# time for diving!\n",
    "\n",
    "reader = PyPDF2.PdfReader('./c1 district diving.pdf')"
   ]
  },
  {
   "cell_type": "code",
   "execution_count": 20,
   "metadata": {},
   "outputs": [
    {
     "data": {
      "text/plain": [
       "8"
      ]
     },
     "execution_count": 20,
     "metadata": {},
     "output_type": "execute_result"
    }
   ],
   "source": [
    "len(reader.pages[0].extract_text().split('\\n')[5].split())"
   ]
  },
  {
   "cell_type": "code",
   "execution_count": 21,
   "metadata": {},
   "outputs": [
    {
     "data": {
      "text/plain": [
       "['2025 C1D2 MSHSAA Girls District Championship',\n",
       " 'Event Results',\n",
       " 'Girls Diving 11 Dives',\n",
       " 'Score Diver Name Rank Order Team Affiliation Pts',\n",
       " '111421.00 Eiley Minich Parkway West',\n",
       " '210370.60 Sarah Fields Parkway Central',\n",
       " '3 9320.10 Gabriella Pupillo Parkway West',\n",
       " '4 5301.40 Abigail Hirsch Ft. Zumwalt South',\n",
       " '5 8295.15 Eliza Loveless Parkway West',\n",
       " '6 7284.00 Natalie Bruins Parkway Central',\n",
       " '7 2277.85 Samantha Walden Ft. Zumwalt East',\n",
       " '8 4272.85 Shelbey Hoagland Ft. Zumwalt South',\n",
       " '9 6271.10 Catherine Bowman Parkway West',\n",
       " '10 3241.30 Caitlyn Gagnepain St. Dominic',\n",
       " '11 1194.35 Savannah Richards Lutheran/Veritas',\n",
       " 'Mary Institute and Country Day School 2/15/2025 1:06:40 PM Page 1 of 1']"
      ]
     },
     "execution_count": 21,
     "metadata": {},
     "output_type": "execute_result"
    }
   ],
   "source": [
    "reader.pages[1].extract_text().split('\\n')"
   ]
  },
  {
   "cell_type": "code",
   "execution_count": null,
   "metadata": {},
   "outputs": [],
   "source": []
  },
  {
   "cell_type": "code",
   "execution_count": 22,
   "metadata": {},
   "outputs": [],
   "source": [
    "def breakup_long_diver_string(input_str):\n",
    "    pattern = r'^(\\d+)\\s+(\\d+)([A-Za-z]+)\\s+([A-Za-z]+)\\s+(.*?)\\s+(\\d+\\.\\d{2})\\s+(\\d+\\.\\d{2})\\s+(\\d+\\.\\d{2})$'\n",
    "\n",
    "    match = re.match(pattern, input_str)\n",
    "\n",
    "    if match:\n",
    "        place = int(match.group(1))\n",
    "        diving_order = int(match.group(2))\n",
    "        diver_name = f\"{match.group(3)} {match.group(4)}\"\n",
    "        school = match.group(5)\n",
    "        prelims = float(match.group(6))\n",
    "        semis = float(match.group(7))\n",
    "        finals = float(match.group(8))\n",
    "        \n",
    "        return [place, diving_order, diver_name, school, prelims, semis, finals]\n",
    "    else:\n",
    "        return None"
   ]
  },
  {
   "cell_type": "code",
   "execution_count": 23,
   "metadata": {},
   "outputs": [],
   "source": [
    "def breakup_short_diver_string(input_str):\n",
    "    pattern = r'^(?:(\\d+)\\s+(\\d{1,2})|(\\d)(\\d{1,2}))(\\d{3}\\.\\d{2})\\s+([A-Za-z]+\\s[A-Za-z]+)\\s+(.*)$'\n",
    "    match = re.match(pattern, input_str)\n",
    "    \n",
    "    if not match:\n",
    "        return None\n",
    "    \n",
    "    if match.group(1) is not None:\n",
    "        place = int(match.group(1))\n",
    "        diving_order = int(match.group(2))\n",
    "    else:\n",
    "        place = int(match.group(3))\n",
    "        diving_order = int(match.group(4))\n",
    "    \n",
    "    score = float(match.group(5))\n",
    "    diver_name = match.group(6)\n",
    "    school = match.group(7)\n",
    "    \n",
    "    return [place, diving_order, score, diver_name, school]"
   ]
  },
  {
   "cell_type": "code",
   "execution_count": 24,
   "metadata": {},
   "outputs": [],
   "source": [
    "def can_convert_to_float(value):\n",
    "    try:\n",
    "        float(value)\n",
    "        return True\n",
    "    except (ValueError, TypeError):\n",
    "        return False"
   ]
  },
  {
   "cell_type": "code",
   "execution_count": 25,
   "metadata": {},
   "outputs": [
    {
     "name": "stdout",
     "output_type": "stream",
     "text": [
      "6 5Addison Branch MONETT HIGH SCHOOL SWIMMING  short\n",
      "11 1Addalyn Brownlee MONETT HIGH SCHOOL SWIMMING  short\n"
     ]
    }
   ],
   "source": [
    "all_district_res = []\n",
    "\n",
    "for page in reader.pages:\n",
    "    lines = page.extract_text().split('\\n')\n",
    "\n",
    "    for i, line in enumerate(lines):\n",
    "        if i<4 or i==len(lines)-1:\n",
    "            continue\n",
    "        line = line.replace('-', '')\n",
    "        split_line = line.split()\n",
    "        if can_convert_to_float(split_line[-1]):\n",
    "            res = breakup_long_diver_string(line)\n",
    "            if not res:\n",
    "                if 'and DIVING' in line:\n",
    "                    line = lines[i-1]+\" \"+line\n",
    "                    res = breakup_long_diver_string(line)\n",
    "                    if not res:\n",
    "                        continue\n",
    "                    all_district_res.append({'score': res[6], 'school': res[3], 'name': res[2], })\n",
    "                else:\n",
    "                    print(line, 'long')\n",
    "                continue\n",
    "            all_district_res.append({'score': res[6], 'school': res[3], 'name': res[2], })\n",
    "        else:\n",
    "            res = breakup_short_diver_string(line)\n",
    "            if not res:\n",
    "                print(line, 'short')\n",
    "                continue\n",
    "            all_district_res.append({'score': res[2], 'school': res[4], 'name': res[3]})"
   ]
  },
  {
   "cell_type": "code",
   "execution_count": 34,
   "metadata": {},
   "outputs": [
    {
     "data": {
      "text/plain": [
       "{'score': 306.8, 'school': 'Saint Joesphs Academy', 'name': 'Tatum Smiley'}"
      ]
     },
     "execution_count": 34,
     "metadata": {},
     "output_type": "execute_result"
    }
   ],
   "source": [
    "all_district_res[4]"
   ]
  },
  {
   "cell_type": "code",
   "execution_count": 27,
   "metadata": {},
   "outputs": [
    {
     "data": {
      "text/plain": [
       "[{'score': 423.5, 'school': 'Notre Dame de Sion', 'name': 'Naya Narciso'},\n",
       " {'score': 421.0, 'school': 'Parkway West', 'name': 'Eiley Minich'},\n",
       " {'score': 393.2,\n",
       "  'school': 'Central High School',\n",
       "  'name': 'Journey Wildschuetz'},\n",
       " {'score': 385.6, 'school': 'Notre Dame de Sion', 'name': 'Stella Henderson'},\n",
       " {'score': 373.45, 'school': 'Kearney', 'name': 'Anna Williams'},\n",
       " {'score': 370.6, 'school': 'Parkway Central', 'name': 'Sarah Fields'},\n",
       " {'score': 361.55, 'school': 'Villa Duchesne', 'name': 'Hannah Ponciroli'},\n",
       " {'score': 358.5, 'school': 'Greenwood', 'name': 'Sophia Sechler'},\n",
       " {'score': 345.3, 'school': 'Notre Dame de Sion', 'name': 'Kate Sobba'},\n",
       " {'score': 332.6, 'school': 'Belton High School', 'name': 'Emma Gillespie'},\n",
       " {'score': 325.4, 'school': 'Notre Dame de Sion', 'name': 'Brooke Sobba'},\n",
       " {'score': 322.75, 'school': 'Poplar Bluff', 'name': 'Allison Williamson'},\n",
       " {'score': 320.1, 'school': 'Parkway West', 'name': 'Gabriella Pupillo'},\n",
       " {'score': 313.55, 'school': 'St Teresas Academy', 'name': 'Ellie sweeny'},\n",
       " {'score': 313.35, 'school': 'Webster Groves', 'name': 'Esme HinyardLash'},\n",
       " {'score': 307.35, 'school': 'Visitation Academy', 'name': 'Clara Hugge'}]"
      ]
     },
     "execution_count": 27,
     "metadata": {},
     "output_type": "execute_result"
    }
   ],
   "source": [
    "top_16_divers = sorted(all_district_res, key=lambda x:x['score'], reverse=True)[0:16]\n",
    "top_16_divers"
   ]
  },
  {
   "cell_type": "code",
   "execution_count": 28,
   "metadata": {},
   "outputs": [],
   "source": [
    "scoring = [20,17,16,15,14,13,12,11,9,7,6,5,4,3,2,1]\n",
    "\n",
    "for i, info in enumerate(top_16_divers):\n",
    "    info['place'] = i+1\n",
    "    if info[\"school\"] in school_scores:\n",
    "        school_scores[info[\"school\"]] += scoring[i]\n",
    "        school_events[info[\"school\"]].append(info)\n",
    "    else:\n",
    "        school_scores[info[\"school\"]] = scoring[i]\n",
    "        school_events[info[\"school\"]] = [info]"
   ]
  },
  {
   "cell_type": "code",
   "execution_count": 29,
   "metadata": {},
   "outputs": [
    {
     "name": "stdout",
     "output_type": "stream",
     "text": [
      "1: 301,\tSt. Joseph's Aca\n",
      "2: 176,\tParkway Central\n",
      "3: 171,\tCentral Cape Gir\n",
      "4: 160,\tPembroke Hill\n",
      "5: 144,\tClayton\n",
      "6: 129,\tVilla Duchesne\n",
      "7: 126,\tVisitation Acade\n",
      "8: 96,\tSt. Teresa's Aca\n",
      "9: 93,\tWest Plains\n",
      "10: 89,\tParkway West\n"
     ]
    }
   ],
   "source": [
    "new_top_10 = sorted(school_scores.items(), key=lambda x:x[1], reverse=True)[0:10]\n",
    "\n",
    "for i, item in enumerate(new_top_10):\n",
    "    print(i+1, \": \", item[1], \",\\t\", item[0], sep=\"\")"
   ]
  },
  {
   "cell_type": "code",
   "execution_count": 30,
   "metadata": {},
   "outputs": [
    {
     "name": "stdout",
     "output_type": "stream",
     "text": [
      "{'team': 'Parkway Central', 'time': '25.04', 'grade': 'JR', 'name': 'Cecilia Tremont', 'place': 8}\n",
      "{'team': 'Parkway Central', 'time': '25.43', 'grade': 'SO', 'name': 'Kenadie Johnson', 'place': 12}\n",
      "{'team': 'Parkway Central', 'time': '57.71', 'grade': 'JR', 'name': 'Reese Anderson', 'place': 3}\n",
      "{'team': 'Parkway Central', 'time': '59.02', 'grade': 'JR', 'name': 'Serena Huang', 'place': 5}\n",
      "{'team': 'Parkway Central', 'time': '54.71', 'grade': 'JR', 'name': 'Cecilia Tremont', 'place': 6}\n",
      "{'team': 'Parkway Central', 'time': '56.89', 'grade': 'SO', 'name': 'Gabrielle Salmans', 'place': 16}\n",
      "{'team': 'Parkway Central', 'time': '5:12.36', 'grade': 'JR', 'name': 'Reese Anderson', 'place': 3}\n",
      "{'team': 'Parkway Central', 'time': '1:09.57', 'grade': 'JR', 'name': 'Serena Huang', 'place': 9}\n",
      "{'event': '200 Yard Medley Relay', 'time': '1:55.95', 'team': 'Parkway Central', 'place': 8}\n",
      "{'event': '200 Yard Freestyle Relay', 'time': '1:41.69', 'team': 'Parkway Central', 'place': 5}\n",
      "{'event': '400 Yard Freestyle Relay', 'time': '3:41.55', 'team': 'Parkway Central', 'place': 3}\n",
      "{'score': 370.6, 'school': 'Parkway Central', 'name': 'Sarah Fields', 'place': 6}\n"
     ]
    }
   ],
   "source": [
    "for e in school_events['Parkway Central']:\n",
    "    print(e)"
   ]
  },
  {
   "cell_type": "code",
   "execution_count": null,
   "metadata": {},
   "outputs": [],
   "source": []
  }
 ],
 "metadata": {
  "kernelspec": {
   "display_name": "py311",
   "language": "python",
   "name": "python3"
  },
  "language_info": {
   "codemirror_mode": {
    "name": "ipython",
    "version": 3
   },
   "file_extension": ".py",
   "mimetype": "text/x-python",
   "name": "python",
   "nbconvert_exporter": "python",
   "pygments_lexer": "ipython3",
   "version": "3.11.9"
  }
 },
 "nbformat": 4,
 "nbformat_minor": 2
}
